{
 "cells": [
  {
   "cell_type": "markdown",
   "metadata": {},
   "source": [
    "# Домашнее задание №2\n",
    "## 1 - 3(c) К полученной в ходе первого задания БД добавлена таблица платежей по контрактам. Код запрашивает из БД таблицу платежей по контрактам и по ней находит моменты просрочки 90+ для каждого контракта. Предлагается задать горизонт риска и по выбранному горизонту строится таблица заемщиков с кредитами сроком не меньше горизонта риска с флагом {дефолт/недефолт} на выбранном горизонте с момента выдачи кредита  Вся информация о моментах дефолтов возвращается обратно в базу данных в виде отдельной таблицы."
   ]
  },
  {
   "cell_type": "code",
   "execution_count": 1,
   "metadata": {},
   "outputs": [],
   "source": [
    "import sqlite3\n",
    "import datetime\n",
    "import pandas as pd\n",
    "import numpy as np\n",
    "import matplotlib.pyplot as plt"
   ]
  },
  {
   "cell_type": "code",
   "execution_count": 2,
   "metadata": {},
   "outputs": [],
   "source": [
    "#соединяемся с созданной в задании 1 базой данных data_base\n",
    "conn = sqlite3.connect(\"data_base.db\")"
   ]
  },
  {
   "cell_type": "code",
   "execution_count": 3,
   "metadata": {},
   "outputs": [],
   "source": [
    "#распаковываем таблицу платежей из excel файла и загружаем в базу данных\n",
    "payments_table = pd.read_excel('payments.xls')"
   ]
  },
  {
   "cell_type": "code",
   "execution_count": 4,
   "metadata": {},
   "outputs": [],
   "source": [
    "#создаем пустую заготовку в базе данных для размещения платежей\n",
    "cursor = conn.cursor()\n",
    "cursor.execute(\"\"\"CREATE TABLE Payments (\n",
    "id_number INT,\n",
    "contract_number INT,\n",
    "date DATE,\n",
    "amount_due INT,\n",
    "amount_paid INT, \n",
    "PRIMARY KEY (id_number),\n",
    "FOREIGN KEY (id_number) REFERENCES Contracts(id_number)) \"\"\")\n",
    "\n",
    "conn.commit()"
   ]
  },
  {
   "cell_type": "code",
   "execution_count": 5,
   "metadata": {},
   "outputs": [],
   "source": [
    "#наполняем таблицу Payments данными по платежам\n",
    "cursor = conn.cursor()\n",
    "for i in range(0, payments_table.shape[0]):\n",
    "    cursor.execute(\"\"\" INSERT INTO payments \n",
    "    VALUES \n",
    "    (%d, %d, '%s', %d, %d)\"\"\" % (\n",
    "        i,\n",
    "        payments_table['Contract Number'][i],\n",
    "        payments_table['Date'][i],\n",
    "        payments_table['Amount Due'][i], \n",
    "        payments_table['Amount Paid'][i] \n",
    "        ))\n",
    "\n",
    "conn.commit()"
   ]
  },
  {
   "cell_type": "code",
   "execution_count": 6,
   "metadata": {},
   "outputs": [
    {
     "data": {
      "text/plain": [
       "Index(['id_number', 'contract_number', 'date', 'amount_due', 'amount_paid'], dtype='object')"
      ]
     },
     "execution_count": 6,
     "metadata": {},
     "output_type": "execute_result"
    }
   ],
   "source": [
    "cursor = conn.cursor()\n",
    "\n",
    "payments_table = pd.read_sql_query(\"SELECT * FROM payments\", conn)\n",
    "payments_table.keys()"
   ]
  },
  {
   "cell_type": "code",
   "execution_count": 7,
   "metadata": {},
   "outputs": [],
   "source": [
    "s_dates = payments_table.groupby(['contract_number'], as_index=False).agg({'date': 'min'})\n",
    "s_dates['amount_due'] = np.nan\n",
    "s_dates['amount_paid'] = np.nan\n",
    "\n",
    "for ind in s_dates.index:\n",
    "    row = s_dates.loc[ind]\n",
    "    t_df = payments_table[(payments_table.contract_number == row.contract_number) & (payments_table.date == row.date)]\n",
    "    s_dates.loc[ind, 'amount_due'] = t_df.amount_due.iloc[0]\n",
    "    s_dates.loc[ind, 'amount_paid'] = t_df.amount_paid.iloc[0]\n",
    "if np.any(s_dates.amount_paid - s_dates.amount_due < 0):\n",
    "    mb_zero_default = s_dates[s_dates.amount_paid - s_dates.amount_due < 0].contract_number.unique()\n",
    "    print(\"Проверьте дефолтные контракты:\", mb_zero_default) #дефолтные означает, что просрочка существует с самого начала (с нулевого периода)"
   ]
  },
  {
   "cell_type": "code",
   "execution_count": 8,
   "metadata": {},
   "outputs": [],
   "source": [
    "#Равенство единице означает, что в контаркте не было просрочки, а 0 что должен был быть платеж, но его нет\n",
    "payments_table['overdue_days'] = 1\n",
    "for contract in payments_table.contract_number.unique():\n",
    "    temp_df = payments_table[payments_table.contract_number == contract].sort_values(['date'])\n",
    "    index_arr = temp_df.index.tolist()\n",
    "    for i in range(1, len(index_arr)):\n",
    "        prev_ind = index_arr[i - 1]\n",
    "        ind = index_arr[i]\n",
    "        if payments_table.loc[ind, 'amount_paid'] < payments_table.loc[ind, 'amount_due']:  \n",
    "            if payments_table.loc[prev_ind, 'overdue_days'] == 1:  # Не было просрочки\n",
    "                payments_table.loc[ind, 'overdue_days'] = 0  # Есть просрочка\n",
    "            else:\n",
    "                new_over_days = 30 #вычисляет количество днем просрочки как 1 месяц = 30 дней\n",
    "                payments_table.loc[ind, 'overdue_days'] = payments_table.loc[prev_ind, 'overdue_days'] + new_over_days  \n",
    "        elif payments_table.loc[ind, 'amount_paid'] > payments_table.loc[ind, 'amount_due']:\n",
    "            months_covered = int(round(payments_table.loc[ind, 'amount_paid'] / payments_table.loc[ind, 'amount_due'], 0))  \n",
    "            months_covered = months_covered - 1  \n",
    "            payments_table.loc[ind, 'overdue_days'] = payments_table.loc[prev_ind, 'overdue_days'] - months_covered * 30\n",
    "            if payments_table.loc[ind, 'overdue_days'] < 0:\n",
    "                payments_table.loc[ind, 'overdue_days'] = 1  # Если долг погашен - 0 - просрочки нет "
   ]
  },
  {
   "cell_type": "code",
   "execution_count": 9,
   "metadata": {},
   "outputs": [
    {
     "data": {
      "text/html": [
       "<div>\n",
       "<style scoped>\n",
       "    .dataframe tbody tr th:only-of-type {\n",
       "        vertical-align: middle;\n",
       "    }\n",
       "\n",
       "    .dataframe tbody tr th {\n",
       "        vertical-align: top;\n",
       "    }\n",
       "\n",
       "    .dataframe thead th {\n",
       "        text-align: right;\n",
       "    }\n",
       "</style>\n",
       "<table border=\"1\" class=\"dataframe\">\n",
       "  <thead>\n",
       "    <tr style=\"text-align: right;\">\n",
       "      <th></th>\n",
       "      <th>Contract Number</th>\n",
       "      <th>Default Date</th>\n",
       "    </tr>\n",
       "  </thead>\n",
       "  <tbody>\n",
       "    <tr>\n",
       "      <th>0</th>\n",
       "      <td>100052</td>\n",
       "      <td>2017-12-30</td>\n",
       "    </tr>\n",
       "    <tr>\n",
       "      <th>1</th>\n",
       "      <td>100375</td>\n",
       "      <td>2017-01-02</td>\n",
       "    </tr>\n",
       "    <tr>\n",
       "      <th>2</th>\n",
       "      <td>100668</td>\n",
       "      <td>2018-06-29</td>\n",
       "    </tr>\n",
       "    <tr>\n",
       "      <th>3</th>\n",
       "      <td>100684</td>\n",
       "      <td>2017-12-14</td>\n",
       "    </tr>\n",
       "    <tr>\n",
       "      <th>4</th>\n",
       "      <td>100875</td>\n",
       "      <td>2017-03-05</td>\n",
       "    </tr>\n",
       "    <tr>\n",
       "      <th>5</th>\n",
       "      <td>100901</td>\n",
       "      <td>2016-11-03</td>\n",
       "    </tr>\n",
       "  </tbody>\n",
       "</table>\n",
       "</div>"
      ],
      "text/plain": [
       "   Contract Number Default Date\n",
       "0           100052   2017-12-30\n",
       "1           100375   2017-01-02\n",
       "2           100668   2018-06-29\n",
       "3           100684   2017-12-14\n",
       "4           100875   2017-03-05\n",
       "5           100901   2016-11-03"
      ]
     },
     "execution_count": 9,
     "metadata": {},
     "output_type": "execute_result"
    }
   ],
   "source": [
    "#образуем таблицу, выводящую дефолты с номерами контракта\n",
    "default_dates = payments_table[payments_table.overdue_days == 90].groupby(['contract_number'], as_index=False).agg({\"date\": \"max\"})\n",
    "default_dates = default_dates.rename({\"contract_number\": \"Contract Number\", \"date\": \"Default Date\"}, axis=1)\n",
    "default_dates['Default Date'] = [x[:-9] for x in default_dates['Default Date']] #в таблице дат дефолтов не будет секунд\n",
    "default_dates"
   ]
  },
  {
   "cell_type": "code",
   "execution_count": 10,
   "metadata": {},
   "outputs": [],
   "source": [
    "#отдельно добавим таблицу дефолтов в базу данных \n",
    "cursor = conn.cursor()\n",
    "cursor.execute(\"\"\"CREATE TABLE Defaults (\n",
    "contract_number INT,\n",
    "default_date DATE,\n",
    "PRIMARY KEY(contract_number)) \"\"\")\n",
    "\n",
    "conn.commit()"
   ]
  },
  {
   "cell_type": "code",
   "execution_count": 11,
   "metadata": {},
   "outputs": [],
   "source": [
    "#загрузим данными базу данных по дефолтам\n",
    "for i in range(0, default_dates.shape[0]):\n",
    "    cursor.execute(\"\"\"INSERT INTO Defaults \n",
    "    VALUES\n",
    "    (%d, '%s')\"\"\"% (\n",
    "    default_dates['Contract Number'][i],\n",
    "    default_dates['Default Date'][i]))\n",
    "    \n",
    "conn.commit()"
   ]
  },
  {
   "cell_type": "code",
   "execution_count": 12,
   "metadata": {
    "scrolled": true
   },
   "outputs": [
    {
     "name": "stdout",
     "output_type": "stream",
     "text": [
      "Горизонт риска =\n",
      "20\n"
     ]
    }
   ],
   "source": [
    "#На следующем этапе необходимо задать горизонт риска (считать в месяцах с начала заключения контракта для удобства). \n",
    "#Возьмем горизонт риска = 20, то есть 20 месяцев. Далее можете на этом этапе установить необходимый Вам горизонт риска. \n",
    "print ('Горизонт риска =') \n",
    "ask_risk_horizon = input()"
   ]
  },
  {
   "cell_type": "code",
   "execution_count": 13,
   "metadata": {},
   "outputs": [
    {
     "data": {
      "text/plain": [
       "20"
      ]
     },
     "execution_count": 13,
     "metadata": {},
     "output_type": "execute_result"
    }
   ],
   "source": [
    "risk_horizon = int(ask_risk_horizon)\n",
    "risk_horizon"
   ]
  },
  {
   "cell_type": "code",
   "execution_count": 14,
   "metadata": {},
   "outputs": [],
   "source": [
    "#Создадим переменную, в которую будут добавляться данные типа (номер контракта, дата дефолта, флаг дефолт/недефолт)\n",
    "default_risk_horizon = []\n",
    "\n",
    "contract_number = list(payments_table['contract_number'])\n",
    "contract_number_unique = list(set(contract_number))\n",
    "\n",
    "for i in contract_number_unique:\n",
    "    table = payments_table[payments_table['contract_number'] == i]\n",
    "    if table.shape[0] >= risk_horizon:\n",
    "        table = table[:risk_horizon]\n",
    "        table = table.reset_index()\n",
    "        for j in range(0, table.shape[0]-3):\n",
    "            if (table['amount_paid'][j] < table['amount_due'][j] and table['amount_paid'][j+1] < table['amount_due'][j+1] and\n",
    "                table['amount_paid'][j+2] < table['amount_due'][j+2] and table['amount_paid'][j+3] < table['amount_due'][j+3]):\n",
    "                default_date = table['date'][j + 3]\n",
    "                default_date = (str(pd.to_datetime(default_date).year) + '-' + str(pd.to_datetime(default_date).month) + \n",
    "                                '-' + str(pd.to_datetime(default_date).day))\n",
    "                while (i, '0000-00-00', 0) in default_risk_horizon: #Здесь мы лезим в общий список просрочек и контрактов, просто фиктивные переменные 0 и 1 не подойдут\n",
    "                                default_risk_horizon.remove ((i, '0000-00-00', 0)) #0000-00-00 для удобства обозначения год-месяц-день при отсутвии дефолта, далее дроп\n",
    "                default_risk_horizon.append((i, default_date, 1)) \n",
    "                break \n",
    "            else: default_risk_horizon.append((i, '0000-00-00', 0))"
   ]
  },
  {
   "cell_type": "code",
   "execution_count": 15,
   "metadata": {},
   "outputs": [
    {
     "name": "stdout",
     "output_type": "stream",
     "text": [
      "42\n"
     ]
    },
    {
     "data": {
      "text/plain": [
       "[(100585, '0000-00-00', 0),\n",
       " (100368, '0000-00-00', 0),\n",
       " (101028, '0000-00-00', 0),\n",
       " (100737, '0000-00-00', 0),\n",
       " (100206, '0000-00-00', 0),\n",
       " (100520, '0000-00-00', 0),\n",
       " (100703, '0000-00-00', 0),\n",
       " (100540, '0000-00-00', 0),\n",
       " (100323, '0000-00-00', 0),\n",
       " (100933, '0000-00-00', 0),\n",
       " (100297, '0000-00-00', 0),\n",
       " (100022, '0000-00-00', 0),\n",
       " (100600, '0000-00-00', 0),\n",
       " (100872, '0000-00-00', 0),\n",
       " (100380, '0000-00-00', 0),\n",
       " (100684, '2017-12-14', 1),\n",
       " (100113, '0000-00-00', 0),\n",
       " (100990, '0000-00-00', 0),\n",
       " (100847, '0000-00-00', 0),\n",
       " (100176, '0000-00-00', 0),\n",
       " (100797, '0000-00-00', 0),\n",
       " (100122, '0000-00-00', 0),\n",
       " (100743, '0000-00-00', 0),\n",
       " (100068, '0000-00-00', 0),\n",
       " (100929, '0000-00-00', 0),\n",
       " (100127, '0000-00-00', 0),\n",
       " (100476, '0000-00-00', 0),\n",
       " (100441, '0000-00-00', 0),\n",
       " (100190, '0000-00-00', 0),\n",
       " (100958, '0000-00-00', 0),\n",
       " (100869, '0000-00-00', 0),\n",
       " (100997, '0000-00-00', 0),\n",
       " (100431, '0000-00-00', 0),\n",
       " (100524, '0000-00-00', 0),\n",
       " (100303, '0000-00-00', 0),\n",
       " (100765, '0000-00-00', 0),\n",
       " (100455, '0000-00-00', 0),\n",
       " (100552, '0000-00-00', 0),\n",
       " (100518, '0000-00-00', 0),\n",
       " (100320, '0000-00-00', 0),\n",
       " (100689, '0000-00-00', 0),\n",
       " (100856, '0000-00-00', 0)]"
      ]
     },
     "execution_count": 15,
     "metadata": {},
     "output_type": "execute_result"
    }
   ],
   "source": [
    "#объединим контракты, чтобы на выходе таблица содержала в себе данные типа: номер контракта(уникальный),\n",
    "#дата просрочки(или же 0000-00-00 если ее нет) и флаг дефолта(фиктивная перменная 0 или 1)\n",
    "default_risk_horizon = list(set(default_risk_horizon))\n",
    "print (len(default_risk_horizon))\n",
    "default_risk_horizon"
   ]
  },
  {
   "cell_type": "code",
   "execution_count": 16,
   "metadata": {},
   "outputs": [],
   "source": [
    "#соединяемся с созданной базой данных data_base\n",
    "#создаем пустую заготовку в базе данных для размещения данных по дефолтам на горизоне риска\n",
    "conn = sqlite3.connect(\"data_base.db\")\n",
    "cursor = conn.cursor()\n",
    "cursor.execute(\"\"\"CREATE TABLE Risk_horizon20 (\n",
    "contract_number INT,\n",
    "default_date DATE,\n",
    "default_flag BOOLEAN)\"\"\".format(risk_horizon))\n",
    "\n",
    "conn.commit()"
   ]
  },
  {
   "cell_type": "code",
   "execution_count": 17,
   "metadata": {},
   "outputs": [],
   "source": [
    "#заполняем таблицу готовыми данными из таблицы default_risk_horizon\n",
    "cursor = conn.cursor()\n",
    "for i in default_risk_horizon:\n",
    "    cursor.execute(\"\"\"INSERT INTO Risk_horizon20 \n",
    "    VALUES\n",
    "    (%d, '%s', %d)\"\"\".format(risk_horizon) % (\n",
    "    i[0],\n",
    "    i[1],\n",
    "    i[2]))\n",
    "    \n",
    "conn.commit()"
   ]
  },
  {
   "cell_type": "markdown",
   "metadata": {},
   "source": [
    "#### итого: в уже имеющуюся базу данных добавлены 2 таблицы: defaults , отражающие все дефолты, а также таблица risk_horizon, в которой содержатся моменты дефолтов на горизонте риска 20 месяцев."
   ]
  }
 ],
 "metadata": {
  "kernelspec": {
   "display_name": "Python 3",
   "language": "python",
   "name": "python3"
  },
  "language_info": {
   "codemirror_mode": {
    "name": "ipython",
    "version": 3
   },
   "file_extension": ".py",
   "mimetype": "text/x-python",
   "name": "python",
   "nbconvert_exporter": "python",
   "pygments_lexer": "ipython3",
   "version": "3.7.1"
  }
 },
 "nbformat": 4,
 "nbformat_minor": 2
}
